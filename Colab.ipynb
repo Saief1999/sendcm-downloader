{
  "cells": [
    {
      "cell_type": "code",
      "execution_count": null,
      "metadata": {
        "cellView": "form",
        "colab": {
          "base_uri": "https://localhost:8080/"
        },
        "id": "ZhlJ5zNyWX3T",
        "outputId": "7979fd5a-b332-4f66-c102-423e887ee5c7"
      },
      "outputs": [],
      "source": [
        "#@title ←Run <Center>Mount Google Drive </Center>\n",
        "#@markdown <Center> <img width=\"80\" src=\"https://kstatic.googleusercontent.com/files/e20dbc1db7b6eab22fb2d07df8043f8a74b301dbb8c176e6a1992b2dc229c5ae94b5c260cf549c41712fa40b7e639166c6a8461303a27c2a3b9c55b8ca155ec3\" class=\"icon\" alt=\"Icon\">\n",
        "\n",
        "from google.colab import drive\n",
        "drive.mount('/content/drive')"
      ]
    },
    {
      "cell_type": "code",
      "execution_count": null,
      "metadata": {
        "colab": {
          "base_uri": "https://localhost:8080/"
        },
        "id": "4lq2VQqmW7LB",
        "outputId": "0c43e71c-4e3a-415b-c639-458a575edd8c"
      },
      "outputs": [],
      "source": [
        "#@title ←Run <Center>Initialize Send.cm Downloader </Center>\n",
        "#@markdown <Center> <img width=\"80\" src=\"https://send.cm/static/img/logo.png\" class=\"icon\" alt=\"Icon\">\n",
        "\n",
        "# Installing Packages\n",
        "!pip install requests\n",
        "!pip install bs4\n",
        "!pip install clint\n",
        "!pip install lxml\n",
        "\n",
        "# Updating src\n",
        "!rm -rf sendcm-downloader \n",
        "!git clone https://github.com/Saief1999/sendcm-downloader"
      ]
    },
    {
      "cell_type": "code",
      "execution_count": null,
      "metadata": {
        "colab": {
          "base_uri": "https://localhost:8080/"
        },
        "id": "PNEA_8R-Wg7M",
        "outputId": "2c6286c0-7903-41e7-8ca2-9987743d58f4"
      },
      "outputs": [],
      "source": [
        "#@title ←Run Downloader\n",
        "\n",
        "folder_link = \"https://send.cm/s/17R/Stripe_Payments_JavaScript_Course\" #@param {type:\"string\"}\n",
        "dest_folder = \"/content/drive/MyDrive/\" #@param {type:\"string\"}\n",
        "\n",
        "!rm -rf /content/tmp\n",
        "!mkdir /content/tmp\n",
        "temp_folder=\"/content/tmp\"\n",
        "!python ./sendcm-downloader/src/sendcm_downloader.py \"$folder_link\" \"/content/tmp\" --noprogress\n",
        "!mv /content/tmp \"$dest_folder\""
      ]
    }
  ],
  "metadata": {
    "colab": {
      "collapsed_sections": [],
      "name": "Colab",
      "provenance": []
    },
    "kernelspec": {
      "display_name": "Python 3",
      "name": "python3"
    },
    "language_info": {
      "name": "python"
    }
  },
  "nbformat": 4,
  "nbformat_minor": 0
}
